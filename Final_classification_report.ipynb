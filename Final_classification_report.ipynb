{
  "nbformat": 4,
  "nbformat_minor": 0,
  "metadata": {
    "colab": {
      "name": "Final_classification_report.ipynb",
      "provenance": [],
      "collapsed_sections": []
    },
    "kernelspec": {
      "name": "python3",
      "display_name": "Python 3"
    },
    "language_info": {
      "name": "python"
    }
  },
  "cells": [
    {
      "cell_type": "markdown",
      "source": [
        "<h1>Результаты анализа отзывов по общественным местам.</h2>\n",
        "\n",
        "---\n",
        "\n"
      ],
      "metadata": {
        "id": "yyiFUM6WXe4c"
      }
    },
    {
      "cell_type": "code",
      "source": [
        "from pymystem3 import Mystem\n",
        "import pandas as pd\n",
        "from string import punctuation \n",
        "!wget http://download.cdn.yandex.net/mystem/mystem-3.0-linux3.1-64bit.tar.gz\n",
        "!tar -xvf mystem-3.0-linux3.1-64bit.tar.gz\n",
        "!cp mystem /root/.local/bin/mystem"
      ],
      "metadata": {
        "id": "o04Gp67uozcx",
        "colab": {
          "base_uri": "https://localhost:8080/"
        },
        "outputId": "b8222347-9c37-4757-ff97-a9c933d21057"
      },
      "execution_count": 14,
      "outputs": [
        {
          "output_type": "stream",
          "name": "stdout",
          "text": [
            "--2022-01-27 09:25:57--  http://download.cdn.yandex.net/mystem/mystem-3.0-linux3.1-64bit.tar.gz\n",
            "Resolving download.cdn.yandex.net (download.cdn.yandex.net)... 5.45.205.245, 5.45.205.242, 5.45.205.243, ...\n",
            "Connecting to download.cdn.yandex.net (download.cdn.yandex.net)|5.45.205.245|:80... connected.\n",
            "HTTP request sent, awaiting response... 302 Found\n",
            "Location: http://cache-man01i.cdn.yandex.net/download.cdn.yandex.net/mystem/mystem-3.0-linux3.1-64bit.tar.gz [following]\n",
            "--2022-01-27 09:25:58--  http://cache-man01i.cdn.yandex.net/download.cdn.yandex.net/mystem/mystem-3.0-linux3.1-64bit.tar.gz\n",
            "Resolving cache-man01i.cdn.yandex.net (cache-man01i.cdn.yandex.net)... 5.45.205.221, 2a02:6b8::3:221\n",
            "Connecting to cache-man01i.cdn.yandex.net (cache-man01i.cdn.yandex.net)|5.45.205.221|:80... connected.\n",
            "HTTP request sent, awaiting response... 200 OK\n",
            "Length: 16457938 (16M) [application/octet-stream]\n",
            "Saving to: ‘mystem-3.0-linux3.1-64bit.tar.gz.3’\n",
            "\n",
            "mystem-3.0-linux3.1 100%[===================>]  15.70M  8.90MB/s    in 1.8s    \n",
            "\n",
            "2022-01-27 09:26:00 (8.90 MB/s) - ‘mystem-3.0-linux3.1-64bit.tar.gz.3’ saved [16457938/16457938]\n",
            "\n",
            "mystem\n"
          ]
        }
      ]
    },
    {
      "cell_type": "code",
      "source": [
        "import joblib\n",
        "from keras.preprocessing.sequence import pad_sequences\n",
        "import numpy as np\n"
      ],
      "metadata": {
        "id": "PIIpwo1YvD8B"
      },
      "execution_count": 2,
      "outputs": []
    },
    {
      "cell_type": "code",
      "source": [
        "data = pd.read_excel('Classified_spaces.xlsx')\n",
        "data1 = pd.read_excel('Classified_transport.xlsx')\n",
        "data2 = pd.read_excel('Classified_in_spaces_2_classes.xlsx')\n"
      ],
      "metadata": {
        "id": "BqwaPeKYutQF"
      },
      "execution_count": 3,
      "outputs": []
    },
    {
      "cell_type": "code",
      "source": [
        "import nltk\n",
        "nltk.download(\"stopwords\")\n",
        "from nltk.corpus import stopwords\n",
        "from string import punctuation\n",
        "russian_stopwords = stopwords.words(\"russian\")\n",
        "\n",
        "# Удаление знаков пунктуации из текста\n",
        "def remove_punct(text):\n",
        "    #  table = {33: '.', 34: ',', 35: '<', 36: '>', 37: '?', 38: '!', 39: '@', 40: '#', 41: '$', 42: '^', 43: '%', 44: '&', 45: '*', 46: '(', 47: ')', 58: '-', 59: '+', 60: '=', 61: '[', 62: ']', 63: '{', 64: '}', 91: ':', 92: ';', 93: '|', 94: '`', 95: '\"', 96: '\\'', 123: '/', 124: '~', 125: '№', 126: '\\n'}\n",
        "    #  return text.translate(table)\n",
        "    table = {33: ' ', 34: ' ', 35: ' ', 36: ' ', 37: ' ', 38: ' ', 39: ' ', 40: ' ', 41: ' ', 42: ' ', 43: ' ', 44: ' ', 45: ' ', 46: ' ', 47: ' ', 58: ' ', 59: ' ', 60: ' ', 61: ' ', 62: ' ', 63: ' ', 64: ' ', 91: ' ', 92: ' ', 93: ' ', 94: ' ', 95: ' ', 96: ' ', 123: ' ', 124: ' ', 125: ' ', 126: ' '}\n",
        "    return text.translate(table)\n"
      ],
      "metadata": {
        "colab": {
          "base_uri": "https://localhost:8080/"
        },
        "id": "otkNLGtgucMB",
        "outputId": "cf7339e9-8613-447b-cceb-ff8755b4c8f6"
      },
      "execution_count": 4,
      "outputs": [
        {
          "output_type": "stream",
          "name": "stdout",
          "text": [
            "[nltk_data] Downloading package stopwords to /root/nltk_data...\n",
            "[nltk_data]   Unzipping corpora/stopwords.zip.\n"
          ]
        }
      ]
    },
    {
      "cell_type": "code",
      "source": [
        "!pip install dostoevsky"
      ],
      "metadata": {
        "colab": {
          "base_uri": "https://localhost:8080/"
        },
        "id": "DoBZUjPTxK6G",
        "outputId": "d9e45e31-17b2-4083-e1f3-2436dccb24f6"
      },
      "execution_count": 5,
      "outputs": [
        {
          "output_type": "stream",
          "name": "stdout",
          "text": [
            "Collecting dostoevsky\n",
            "  Downloading dostoevsky-0.6.0-py2.py3-none-any.whl (8.5 kB)\n",
            "Collecting razdel==0.5.0\n",
            "  Downloading razdel-0.5.0-py3-none-any.whl (21 kB)\n",
            "Collecting fasttext==0.9.2\n",
            "  Downloading fasttext-0.9.2.tar.gz (68 kB)\n",
            "\u001b[K     |████████████████████████████████| 68 kB 3.4 MB/s \n",
            "\u001b[?25hCollecting pybind11>=2.2\n",
            "  Using cached pybind11-2.9.0-py2.py3-none-any.whl (210 kB)\n",
            "Requirement already satisfied: setuptools>=0.7.0 in /usr/local/lib/python3.7/dist-packages (from fasttext==0.9.2->dostoevsky) (57.4.0)\n",
            "Requirement already satisfied: numpy in /usr/local/lib/python3.7/dist-packages (from fasttext==0.9.2->dostoevsky) (1.19.5)\n",
            "Building wheels for collected packages: fasttext\n",
            "  Building wheel for fasttext (setup.py) ... \u001b[?25l\u001b[?25hdone\n",
            "  Created wheel for fasttext: filename=fasttext-0.9.2-cp37-cp37m-linux_x86_64.whl size=3126304 sha256=f7eadbd655ac6c0919a17c0b0fc3ea46bf1afd34dca7d12a9aff6b5b14b9547d\n",
            "  Stored in directory: /root/.cache/pip/wheels/4e/ca/bf/b020d2be95f7641801a6597a29c8f4f19e38f9c02a345bab9b\n",
            "Successfully built fasttext\n",
            "Installing collected packages: pybind11, razdel, fasttext, dostoevsky\n",
            "Successfully installed dostoevsky-0.6.0 fasttext-0.9.2 pybind11-2.9.0 razdel-0.5.0\n"
          ]
        }
      ]
    },
    {
      "cell_type": "code",
      "source": [
        "!python3 -m dostoevsky download fasttext-social-network-model"
      ],
      "metadata": {
        "id": "qK5ub5PIxZdL"
      },
      "execution_count": 6,
      "outputs": []
    },
    {
      "cell_type": "code",
      "source": [
        "from dostoevsky.tokenization import RegexTokenizer\n",
        "from dostoevsky.models import FastTextSocialNetworkModel\n",
        "import pandas as pd"
      ],
      "metadata": {
        "id": "0Jh3txQvyfnN"
      },
      "execution_count": 7,
      "outputs": []
    },
    {
      "cell_type": "code",
      "execution_count": 19,
      "metadata": {
        "id": "cwdQS6pVM6z2"
      },
      "outputs": [],
      "source": [
        "def sentiment_analysis_places(data):\n",
        "    tokenizer = RegexTokenizer()\n",
        "    model = FastTextSocialNetworkModel(tokenizer=tokenizer)\n",
        "    try:\n",
        "        messages = data['Review'].to_list()\n",
        "    except:\n",
        "        messages = data['review'].to_list()\n",
        "\n",
        "    result = pd.DataFrame(columns=['Place', 'Class', 'Review', 'Positive', 'Negative', 'Neutral'])\n",
        "\n",
        "    results = model.predict(messages)\n",
        "\n",
        "    i = 0\n",
        "    for message, sentiment in zip(messages, results):\n",
        "\n",
        "        review = {'Place': data.iloc[i][1], 'Review': message, 'Class': data.iloc[i][3],\n",
        "              'Positive' : sentiment['positive'], 'Negative' : sentiment['negative'], 'Neutral': sentiment['neutral']}\n",
        "\n",
        "        #  print(review)\n",
        "        result = result.append(review, ignore_index=True)\n",
        "        i += 1\n",
        "    return result\n"
      ]
    },
    {
      "cell_type": "code",
      "source": [
        "def sentiment_analysis_transport(data):\n",
        "    tokenizer = RegexTokenizer()\n",
        "    model = FastTextSocialNetworkModel(tokenizer=tokenizer)\n",
        "\n",
        "    messages = data['Review'].to_list()\n",
        "\n",
        "    result = pd.DataFrame(columns=['Class', 'Review', 'Positive', 'Negative', 'Neutral'])\n",
        "\n",
        "    results = model.predict(messages)\n",
        "\n",
        "    i = 0\n",
        "    for message, sentiment in zip(messages, results):\n",
        "\n",
        "        review = {'Review': message, 'Class': data.iloc[i][2],\n",
        "              'Positive' : sentiment['positive'], 'Negative' : sentiment['negative'], 'Neutral': sentiment['neutral']}\n",
        "\n",
        "        #  print(review)\n",
        "        result = result.append(review, ignore_index=True)\n",
        "        i += 1\n",
        "    return result"
      ],
      "metadata": {
        "id": "xJb0qjswzg7n"
      },
      "execution_count": 8,
      "outputs": []
    },
    {
      "cell_type": "code",
      "source": [
        "sentiment_analysis_places(data).to_excel(\"Classified_sentimented_spaces.xlsx\")"
      ],
      "metadata": {
        "colab": {
          "base_uri": "https://localhost:8080/"
        },
        "id": "atT8RYxmwNBv",
        "outputId": "11a5dac5-cfb0-46e1-b8eb-0b2437e77330"
      },
      "execution_count": 21,
      "outputs": [
        {
          "output_type": "stream",
          "name": "stderr",
          "text": [
            "Warning : `load_model` does not return WordVectorModel or SupervisedModel any more, but a `FastText` object which is very similar.\n"
          ]
        }
      ]
    },
    {
      "cell_type": "code",
      "source": [
        "sentiment_analysis_places(data2).to_excel(\"Classified_sentimented_in_spaces.xlsx\")"
      ],
      "metadata": {
        "colab": {
          "base_uri": "https://localhost:8080/"
        },
        "id": "kLvgdGsWzT4q",
        "outputId": "301cbef9-3ad4-40db-ea56-6b151bc1f886"
      },
      "execution_count": 22,
      "outputs": [
        {
          "output_type": "stream",
          "name": "stderr",
          "text": [
            "Warning : `load_model` does not return WordVectorModel or SupervisedModel any more, but a `FastText` object which is very similar.\n"
          ]
        }
      ]
    },
    {
      "cell_type": "code",
      "source": [
        "sentiment_analysis_transport(data1).to_excel(\"Classified_sentimented_transport.xlsx\")"
      ],
      "metadata": {
        "colab": {
          "base_uri": "https://localhost:8080/"
        },
        "id": "aDYXT90zzxid",
        "outputId": "eda99cd6-3c4b-4041-db8b-53e0aa873781"
      },
      "execution_count": 25,
      "outputs": [
        {
          "output_type": "stream",
          "name": "stderr",
          "text": [
            "Warning : `load_model` does not return WordVectorModel or SupervisedModel any more, but a `FastText` object which is very similar.\n"
          ]
        }
      ]
    },
    {
      "cell_type": "code",
      "source": [
        "def preprocess_text(text, mystem, tokenizer, maxlen=100):\n",
        "    text = text.lower()\n",
        "    text = remove_punct(text)\n",
        "    text = mystem.lemmatize(text)\n",
        "\n",
        "    text = [token.strip() for token in text if token not in russian_stopwords and token != \" \" and token.strip() not in punctuation]\n",
        "    text = ' '.join(text)\n",
        "\n",
        "    final = tokenizer.texts_to_sequences([text])\n",
        "\n",
        "    final = pad_sequences(final, padding='post', maxlen=maxlen)\n",
        "\n",
        "    return final"
      ],
      "metadata": {
        "id": "do4DsflKvIA3"
      },
      "execution_count": 9,
      "outputs": []
    },
    {
      "cell_type": "code",
      "source": [
        "transport_classes = {0 : 'Безопасность', 1 : 'Комфорт'}\n",
        "spaces_2_classes = {0: 'Комфорт', 1: \"Удовольствия\"}\n",
        "spaces_3_classes = {0 : 'Безопасность', 1 : 'Комфорт', 2: 'Удовольствия'}\n",
        "\n"
      ],
      "metadata": {
        "id": "Nc4voq-qvTat"
      },
      "execution_count": 10,
      "outputs": []
    },
    {
      "cell_type": "code",
      "source": [
        "def sentiment_analysis(message):\n",
        "    tokenizer = RegexTokenizer()\n",
        "    model = FastTextSocialNetworkModel(tokenizer=tokenizer)\n",
        "\n",
        "    result = model.predict(message)\n",
        "    return result"
      ],
      "metadata": {
        "id": "FqQC099n2HSG"
      },
      "execution_count": 16,
      "outputs": []
    },
    {
      "cell_type": "code",
      "source": [
        "mystem = Mystem()\n",
        "\n",
        "tokenizer = joblib.load(\"Tokenizer.joblib\")\n",
        "\n",
        "model_2_classes = joblib.load(\"text_classification_2_classes.joblib\")\n",
        "model_3_classes = joblib.load(\"text_classification_model.joblib\")\n",
        "\n",
        "review = input(\"Оценим отзыв про общественное пространство. Введите отзыв: \") \n",
        "\n",
        "processed_review = preprocess_text(review, mystem, tokenizer)\n",
        "sentiment = sentiment_analysis([review])\n",
        "\n",
        "\n",
        "p1 = spaces_2_classes[np.argmax(model_2_classes.predict(processed_review))]\n",
        "p2 = spaces_3_classes[np.argmax(model_3_classes.predict(processed_review))]\n",
        "\n",
        "pos = sentiment[0]['positive']\n",
        "neg = sentiment[0]['negative']\n",
        "neu = sentiment[0]['neutral']\n",
        "\n",
        "\n",
        "print(f\"Первая модель относит отзыв к классу {p1}. Вторая модель - {p2}. Анализ на эмоции показывает, что отзыв на {pos} позитивный, на {neg} негативный и на {neu} нейтральный\")"
      ],
      "metadata": {
        "colab": {
          "base_uri": "https://localhost:8080/"
        },
        "id": "oyl8nKyd11kK",
        "outputId": "7d101e14-8d23-41b4-8f87-d4b4125f3552"
      },
      "execution_count": 46,
      "outputs": [
        {
          "output_type": "stream",
          "name": "stdout",
          "text": [
            "Оценим отзыв про общественное пространство. Введите отзыв: Обожаю это место\n",
            "Первая модель относит отзыв к классу Комфорт. Вторая модель - Комфорт. Анализ на эмоции показывает, что отзыв на 0.9993221759796143 позитивный, на 0.0009210511343553662 негативный и на 0.002482622629031539 нейтральный\n"
          ]
        },
        {
          "output_type": "stream",
          "name": "stderr",
          "text": [
            "Warning : `load_model` does not return WordVectorModel or SupervisedModel any more, but a `FastText` object which is very similar.\n"
          ]
        }
      ]
    },
    {
      "cell_type": "markdown",
      "source": [
        "<h1>Результаты анализа отзывов по транспорту.</h2>\n",
        "\n",
        "\n",
        "---\n",
        "\n"
      ],
      "metadata": {
        "id": "FZ73xkX5oneO"
      }
    },
    {
      "cell_type": "code",
      "source": [
        "mystem = Mystem()\n",
        "\n",
        "tokenizer = joblib.load(\"Tokenizer_transport.joblib\")\n",
        "\n",
        "model = joblib.load(\"transport_classification1.joblib\")\n",
        "\n",
        "\n",
        "review = input(\"Оценим отзыв про транспорт. Введите отзыв: \") \n",
        "\n",
        "processed_review = preprocess_text(review, mystem, tokenizer)\n",
        "sentiment = sentiment_analysis([review])\n",
        "\n",
        "\n",
        "p = transport_classes[np.argmax(model.predict(processed_review))]\n",
        "\n",
        "pos = sentiment[0]['positive']\n",
        "neg = sentiment[0]['negative']\n",
        "neu = sentiment[0]['neutral']\n",
        "\n",
        "\n",
        "print(f\"Модель относит отзыв к классу {p}. Анализ на эмоции показывает, что отзыв на {pos:.3f} позитивный, на {neg:.3f} негативный и на {neu:.3f} нейтральный\")"
      ],
      "metadata": {
        "colab": {
          "base_uri": "https://localhost:8080/"
        },
        "id": "y5jMThzB1PU0",
        "outputId": "3b6735f3-77b4-424a-9fb6-035de3bf2ec4"
      },
      "execution_count": 22,
      "outputs": [
        {
          "output_type": "stream",
          "name": "stdout",
          "text": [
            "Оценим отзыв про транспорт. Введите отзыв: Нарушает правила дорожного движения\n",
            "WARNING:tensorflow:6 out of the last 6 calls to <function Model.make_predict_function.<locals>.predict_function at 0x7f9041dccb90> triggered tf.function retracing. Tracing is expensive and the excessive number of tracings could be due to (1) creating @tf.function repeatedly in a loop, (2) passing tensors with different shapes, (3) passing Python objects instead of tensors. For (1), please define your @tf.function outside of the loop. For (2), @tf.function has experimental_relax_shapes=True option that relaxes argument shapes that can avoid unnecessary retracing. For (3), please refer to https://www.tensorflow.org/guide/function#controlling_retracing and https://www.tensorflow.org/api_docs/python/tf/function for  more details.\n",
            "Модель относит отзыв к классу Безопасность. Анализ на эмоции показывает, что отзыв на 0.005 позитивный, на 0.037 негативный и на 0.783 нейтральный\n"
          ]
        },
        {
          "output_type": "stream",
          "name": "stderr",
          "text": [
            "Warning : `load_model` does not return WordVectorModel or SupervisedModel any more, but a `FastText` object which is very similar.\n"
          ]
        }
      ]
    },
    {
      "cell_type": "markdown",
      "source": [
        "<h1>Нарисуем графики результатов</h1>"
      ],
      "metadata": {
        "id": "tkxC4iwX4DQK"
      }
    },
    {
      "cell_type": "code",
      "source": [
        "Out_spaces = pd.read_excel('Classified_sentimented_spaces.xlsx')\n",
        "transport = pd.read_excel('Classified_sentimented_transport.xlsx')\n",
        "in_spaces = pd.read_excel('Classified_sentimented_in_spaces.xlsx')"
      ],
      "metadata": {
        "id": "fIIwOseH4Cjt"
      },
      "execution_count": 92,
      "outputs": []
    },
    {
      "cell_type": "code",
      "source": [
        "Out_spaces.head()"
      ],
      "metadata": {
        "colab": {
          "base_uri": "https://localhost:8080/",
          "height": 206
        },
        "id": "Xz5KkP0Y4l5d",
        "outputId": "eed35e81-6167-40d2-9900-be1eb15951d0"
      },
      "execution_count": 25,
      "outputs": [
        {
          "output_type": "execute_result",
          "data": {
            "text/html": [
              "\n",
              "  <div id=\"df-039c9e7f-56a0-48c5-b488-735a78c2221d\">\n",
              "    <div class=\"colab-df-container\">\n",
              "      <div>\n",
              "<style scoped>\n",
              "    .dataframe tbody tr th:only-of-type {\n",
              "        vertical-align: middle;\n",
              "    }\n",
              "\n",
              "    .dataframe tbody tr th {\n",
              "        vertical-align: top;\n",
              "    }\n",
              "\n",
              "    .dataframe thead th {\n",
              "        text-align: right;\n",
              "    }\n",
              "</style>\n",
              "<table border=\"1\" class=\"dataframe\">\n",
              "  <thead>\n",
              "    <tr style=\"text-align: right;\">\n",
              "      <th></th>\n",
              "      <th>Unnamed: 0</th>\n",
              "      <th>Place</th>\n",
              "      <th>Class</th>\n",
              "      <th>Review</th>\n",
              "      <th>Positive</th>\n",
              "      <th>Negative</th>\n",
              "      <th>Neutral</th>\n",
              "    </tr>\n",
              "  </thead>\n",
              "  <tbody>\n",
              "    <tr>\n",
              "      <th>0</th>\n",
              "      <td>0</td>\n",
              "      <td>Этажи</td>\n",
              "      <td>У</td>\n",
              "      <td>Интересное пространство. Много выставок, некот...</td>\n",
              "      <td>0.173298</td>\n",
              "      <td>0.100889</td>\n",
              "      <td>0.600198</td>\n",
              "    </tr>\n",
              "    <tr>\n",
              "      <th>1</th>\n",
              "      <td>1</td>\n",
              "      <td>Этажи</td>\n",
              "      <td>К</td>\n",
              "      <td>Всё по порядку.\\nСамо здание это несколько эта...</td>\n",
              "      <td>0.069552</td>\n",
              "      <td>0.196836</td>\n",
              "      <td>0.554480</td>\n",
              "    </tr>\n",
              "    <tr>\n",
              "      <th>2</th>\n",
              "      <td>2</td>\n",
              "      <td>Этажи</td>\n",
              "      <td>У</td>\n",
              "      <td>Место не лишено художественного и социального ...</td>\n",
              "      <td>0.507822</td>\n",
              "      <td>0.222710</td>\n",
              "      <td>0.112805</td>\n",
              "    </tr>\n",
              "    <tr>\n",
              "      <th>3</th>\n",
              "      <td>3</td>\n",
              "      <td>Этажи</td>\n",
              "      <td>К</td>\n",
              "      <td>Замечательное место!!!\\nБольшой выбор еды. Мно...</td>\n",
              "      <td>0.025967</td>\n",
              "      <td>0.148057</td>\n",
              "      <td>0.672342</td>\n",
              "    </tr>\n",
              "    <tr>\n",
              "      <th>4</th>\n",
              "      <td>4</td>\n",
              "      <td>Этажи</td>\n",
              "      <td>У</td>\n",
              "      <td>Любимое местечко питерской молодёжи.\\nМагазинч...</td>\n",
              "      <td>0.164526</td>\n",
              "      <td>0.073706</td>\n",
              "      <td>0.399822</td>\n",
              "    </tr>\n",
              "  </tbody>\n",
              "</table>\n",
              "</div>\n",
              "      <button class=\"colab-df-convert\" onclick=\"convertToInteractive('df-039c9e7f-56a0-48c5-b488-735a78c2221d')\"\n",
              "              title=\"Convert this dataframe to an interactive table.\"\n",
              "              style=\"display:none;\">\n",
              "        \n",
              "  <svg xmlns=\"http://www.w3.org/2000/svg\" height=\"24px\"viewBox=\"0 0 24 24\"\n",
              "       width=\"24px\">\n",
              "    <path d=\"M0 0h24v24H0V0z\" fill=\"none\"/>\n",
              "    <path d=\"M18.56 5.44l.94 2.06.94-2.06 2.06-.94-2.06-.94-.94-2.06-.94 2.06-2.06.94zm-11 1L8.5 8.5l.94-2.06 2.06-.94-2.06-.94L8.5 2.5l-.94 2.06-2.06.94zm10 10l.94 2.06.94-2.06 2.06-.94-2.06-.94-.94-2.06-.94 2.06-2.06.94z\"/><path d=\"M17.41 7.96l-1.37-1.37c-.4-.4-.92-.59-1.43-.59-.52 0-1.04.2-1.43.59L10.3 9.45l-7.72 7.72c-.78.78-.78 2.05 0 2.83L4 21.41c.39.39.9.59 1.41.59.51 0 1.02-.2 1.41-.59l7.78-7.78 2.81-2.81c.8-.78.8-2.07 0-2.86zM5.41 20L4 18.59l7.72-7.72 1.47 1.35L5.41 20z\"/>\n",
              "  </svg>\n",
              "      </button>\n",
              "      \n",
              "  <style>\n",
              "    .colab-df-container {\n",
              "      display:flex;\n",
              "      flex-wrap:wrap;\n",
              "      gap: 12px;\n",
              "    }\n",
              "\n",
              "    .colab-df-convert {\n",
              "      background-color: #E8F0FE;\n",
              "      border: none;\n",
              "      border-radius: 50%;\n",
              "      cursor: pointer;\n",
              "      display: none;\n",
              "      fill: #1967D2;\n",
              "      height: 32px;\n",
              "      padding: 0 0 0 0;\n",
              "      width: 32px;\n",
              "    }\n",
              "\n",
              "    .colab-df-convert:hover {\n",
              "      background-color: #E2EBFA;\n",
              "      box-shadow: 0px 1px 2px rgba(60, 64, 67, 0.3), 0px 1px 3px 1px rgba(60, 64, 67, 0.15);\n",
              "      fill: #174EA6;\n",
              "    }\n",
              "\n",
              "    [theme=dark] .colab-df-convert {\n",
              "      background-color: #3B4455;\n",
              "      fill: #D2E3FC;\n",
              "    }\n",
              "\n",
              "    [theme=dark] .colab-df-convert:hover {\n",
              "      background-color: #434B5C;\n",
              "      box-shadow: 0px 1px 3px 1px rgba(0, 0, 0, 0.15);\n",
              "      filter: drop-shadow(0px 1px 2px rgba(0, 0, 0, 0.3));\n",
              "      fill: #FFFFFF;\n",
              "    }\n",
              "  </style>\n",
              "\n",
              "      <script>\n",
              "        const buttonEl =\n",
              "          document.querySelector('#df-039c9e7f-56a0-48c5-b488-735a78c2221d button.colab-df-convert');\n",
              "        buttonEl.style.display =\n",
              "          google.colab.kernel.accessAllowed ? 'block' : 'none';\n",
              "\n",
              "        async function convertToInteractive(key) {\n",
              "          const element = document.querySelector('#df-039c9e7f-56a0-48c5-b488-735a78c2221d');\n",
              "          const dataTable =\n",
              "            await google.colab.kernel.invokeFunction('convertToInteractive',\n",
              "                                                     [key], {});\n",
              "          if (!dataTable) return;\n",
              "\n",
              "          const docLinkHtml = 'Like what you see? Visit the ' +\n",
              "            '<a target=\"_blank\" href=https://colab.research.google.com/notebooks/data_table.ipynb>data table notebook</a>'\n",
              "            + ' to learn more about interactive tables.';\n",
              "          element.innerHTML = '';\n",
              "          dataTable['output_type'] = 'display_data';\n",
              "          await google.colab.output.renderOutput(dataTable, element);\n",
              "          const docLink = document.createElement('div');\n",
              "          docLink.innerHTML = docLinkHtml;\n",
              "          element.appendChild(docLink);\n",
              "        }\n",
              "      </script>\n",
              "    </div>\n",
              "  </div>\n",
              "  "
            ],
            "text/plain": [
              "   Unnamed: 0  Place Class  ...  Positive  Negative   Neutral\n",
              "0           0  Этажи     У  ...  0.173298  0.100889  0.600198\n",
              "1           1  Этажи     К  ...  0.069552  0.196836  0.554480\n",
              "2           2  Этажи     У  ...  0.507822  0.222710  0.112805\n",
              "3           3  Этажи     К  ...  0.025967  0.148057  0.672342\n",
              "4           4  Этажи     У  ...  0.164526  0.073706  0.399822\n",
              "\n",
              "[5 rows x 7 columns]"
            ]
          },
          "metadata": {},
          "execution_count": 25
        }
      ]
    },
    {
      "cell_type": "code",
      "source": [
        "transport.head()"
      ],
      "metadata": {
        "colab": {
          "base_uri": "https://localhost:8080/",
          "height": 206
        },
        "id": "bsbe58M84ozr",
        "outputId": "3e46ceb7-15b6-4e26-a9d2-a8a159aadca9"
      },
      "execution_count": 26,
      "outputs": [
        {
          "output_type": "execute_result",
          "data": {
            "text/html": [
              "\n",
              "  <div id=\"df-3a5cee0e-7764-4192-aa39-21f39300254c\">\n",
              "    <div class=\"colab-df-container\">\n",
              "      <div>\n",
              "<style scoped>\n",
              "    .dataframe tbody tr th:only-of-type {\n",
              "        vertical-align: middle;\n",
              "    }\n",
              "\n",
              "    .dataframe tbody tr th {\n",
              "        vertical-align: top;\n",
              "    }\n",
              "\n",
              "    .dataframe thead th {\n",
              "        text-align: right;\n",
              "    }\n",
              "</style>\n",
              "<table border=\"1\" class=\"dataframe\">\n",
              "  <thead>\n",
              "    <tr style=\"text-align: right;\">\n",
              "      <th></th>\n",
              "      <th>Unnamed: 0</th>\n",
              "      <th>Class</th>\n",
              "      <th>Review</th>\n",
              "      <th>Positive</th>\n",
              "      <th>Negative</th>\n",
              "      <th>Neutral</th>\n",
              "    </tr>\n",
              "  </thead>\n",
              "  <tbody>\n",
              "    <tr>\n",
              "      <th>0</th>\n",
              "      <td>0</td>\n",
              "      <td>Б</td>\n",
              "      <td>Гоняют приличных молодых людей с рюкзаками на ...</td>\n",
              "      <td>0.132974</td>\n",
              "      <td>0.341593</td>\n",
              "      <td>0.384922</td>\n",
              "    </tr>\n",
              "    <tr>\n",
              "      <th>1</th>\n",
              "      <td>1</td>\n",
              "      <td>Б</td>\n",
              "      <td>Я занимаюсь страйкболом и регулярно езжу на ме...</td>\n",
              "      <td>0.082707</td>\n",
              "      <td>0.300756</td>\n",
              "      <td>0.414909</td>\n",
              "    </tr>\n",
              "    <tr>\n",
              "      <th>2</th>\n",
              "      <td>2</td>\n",
              "      <td>К</td>\n",
              "      <td>Газета,, Нью-Йорк тамс,, как - то опубликовала...</td>\n",
              "      <td>0.191943</td>\n",
              "      <td>0.160276</td>\n",
              "      <td>0.334599</td>\n",
              "    </tr>\n",
              "    <tr>\n",
              "      <th>3</th>\n",
              "      <td>3</td>\n",
              "      <td>К</td>\n",
              "      <td>В вагонах станции объявляет ужасный голос, каж...</td>\n",
              "      <td>0.156115</td>\n",
              "      <td>0.206904</td>\n",
              "      <td>0.484390</td>\n",
              "    </tr>\n",
              "    <tr>\n",
              "      <th>4</th>\n",
              "      <td>4</td>\n",
              "      <td>К</td>\n",
              "      <td>Пополняла подорожник сегодня на Электросиле, и...</td>\n",
              "      <td>0.106701</td>\n",
              "      <td>0.233716</td>\n",
              "      <td>0.320831</td>\n",
              "    </tr>\n",
              "  </tbody>\n",
              "</table>\n",
              "</div>\n",
              "      <button class=\"colab-df-convert\" onclick=\"convertToInteractive('df-3a5cee0e-7764-4192-aa39-21f39300254c')\"\n",
              "              title=\"Convert this dataframe to an interactive table.\"\n",
              "              style=\"display:none;\">\n",
              "        \n",
              "  <svg xmlns=\"http://www.w3.org/2000/svg\" height=\"24px\"viewBox=\"0 0 24 24\"\n",
              "       width=\"24px\">\n",
              "    <path d=\"M0 0h24v24H0V0z\" fill=\"none\"/>\n",
              "    <path d=\"M18.56 5.44l.94 2.06.94-2.06 2.06-.94-2.06-.94-.94-2.06-.94 2.06-2.06.94zm-11 1L8.5 8.5l.94-2.06 2.06-.94-2.06-.94L8.5 2.5l-.94 2.06-2.06.94zm10 10l.94 2.06.94-2.06 2.06-.94-2.06-.94-.94-2.06-.94 2.06-2.06.94z\"/><path d=\"M17.41 7.96l-1.37-1.37c-.4-.4-.92-.59-1.43-.59-.52 0-1.04.2-1.43.59L10.3 9.45l-7.72 7.72c-.78.78-.78 2.05 0 2.83L4 21.41c.39.39.9.59 1.41.59.51 0 1.02-.2 1.41-.59l7.78-7.78 2.81-2.81c.8-.78.8-2.07 0-2.86zM5.41 20L4 18.59l7.72-7.72 1.47 1.35L5.41 20z\"/>\n",
              "  </svg>\n",
              "      </button>\n",
              "      \n",
              "  <style>\n",
              "    .colab-df-container {\n",
              "      display:flex;\n",
              "      flex-wrap:wrap;\n",
              "      gap: 12px;\n",
              "    }\n",
              "\n",
              "    .colab-df-convert {\n",
              "      background-color: #E8F0FE;\n",
              "      border: none;\n",
              "      border-radius: 50%;\n",
              "      cursor: pointer;\n",
              "      display: none;\n",
              "      fill: #1967D2;\n",
              "      height: 32px;\n",
              "      padding: 0 0 0 0;\n",
              "      width: 32px;\n",
              "    }\n",
              "\n",
              "    .colab-df-convert:hover {\n",
              "      background-color: #E2EBFA;\n",
              "      box-shadow: 0px 1px 2px rgba(60, 64, 67, 0.3), 0px 1px 3px 1px rgba(60, 64, 67, 0.15);\n",
              "      fill: #174EA6;\n",
              "    }\n",
              "\n",
              "    [theme=dark] .colab-df-convert {\n",
              "      background-color: #3B4455;\n",
              "      fill: #D2E3FC;\n",
              "    }\n",
              "\n",
              "    [theme=dark] .colab-df-convert:hover {\n",
              "      background-color: #434B5C;\n",
              "      box-shadow: 0px 1px 3px 1px rgba(0, 0, 0, 0.15);\n",
              "      filter: drop-shadow(0px 1px 2px rgba(0, 0, 0, 0.3));\n",
              "      fill: #FFFFFF;\n",
              "    }\n",
              "  </style>\n",
              "\n",
              "      <script>\n",
              "        const buttonEl =\n",
              "          document.querySelector('#df-3a5cee0e-7764-4192-aa39-21f39300254c button.colab-df-convert');\n",
              "        buttonEl.style.display =\n",
              "          google.colab.kernel.accessAllowed ? 'block' : 'none';\n",
              "\n",
              "        async function convertToInteractive(key) {\n",
              "          const element = document.querySelector('#df-3a5cee0e-7764-4192-aa39-21f39300254c');\n",
              "          const dataTable =\n",
              "            await google.colab.kernel.invokeFunction('convertToInteractive',\n",
              "                                                     [key], {});\n",
              "          if (!dataTable) return;\n",
              "\n",
              "          const docLinkHtml = 'Like what you see? Visit the ' +\n",
              "            '<a target=\"_blank\" href=https://colab.research.google.com/notebooks/data_table.ipynb>data table notebook</a>'\n",
              "            + ' to learn more about interactive tables.';\n",
              "          element.innerHTML = '';\n",
              "          dataTable['output_type'] = 'display_data';\n",
              "          await google.colab.output.renderOutput(dataTable, element);\n",
              "          const docLink = document.createElement('div');\n",
              "          docLink.innerHTML = docLinkHtml;\n",
              "          element.appendChild(docLink);\n",
              "        }\n",
              "      </script>\n",
              "    </div>\n",
              "  </div>\n",
              "  "
            ],
            "text/plain": [
              "   Unnamed: 0 Class  ...  Negative   Neutral\n",
              "0           0     Б  ...  0.341593  0.384922\n",
              "1           1     Б  ...  0.300756  0.414909\n",
              "2           2     К  ...  0.160276  0.334599\n",
              "3           3     К  ...  0.206904  0.484390\n",
              "4           4     К  ...  0.233716  0.320831\n",
              "\n",
              "[5 rows x 6 columns]"
            ]
          },
          "metadata": {},
          "execution_count": 26
        }
      ]
    },
    {
      "cell_type": "code",
      "source": [
        "in_spaces.head()"
      ],
      "metadata": {
        "colab": {
          "base_uri": "https://localhost:8080/",
          "height": 206
        },
        "id": "RMUDfsaV4sxC",
        "outputId": "16ed83a6-88a4-4699-f3b7-63199c894ffa"
      },
      "execution_count": 27,
      "outputs": [
        {
          "output_type": "execute_result",
          "data": {
            "text/html": [
              "\n",
              "  <div id=\"df-0010958a-f83a-4f62-a393-ef671f43a975\">\n",
              "    <div class=\"colab-df-container\">\n",
              "      <div>\n",
              "<style scoped>\n",
              "    .dataframe tbody tr th:only-of-type {\n",
              "        vertical-align: middle;\n",
              "    }\n",
              "\n",
              "    .dataframe tbody tr th {\n",
              "        vertical-align: top;\n",
              "    }\n",
              "\n",
              "    .dataframe thead th {\n",
              "        text-align: right;\n",
              "    }\n",
              "</style>\n",
              "<table border=\"1\" class=\"dataframe\">\n",
              "  <thead>\n",
              "    <tr style=\"text-align: right;\">\n",
              "      <th></th>\n",
              "      <th>Unnamed: 0</th>\n",
              "      <th>Place</th>\n",
              "      <th>Class</th>\n",
              "      <th>Review</th>\n",
              "      <th>Positive</th>\n",
              "      <th>Negative</th>\n",
              "      <th>Neutral</th>\n",
              "    </tr>\n",
              "  </thead>\n",
              "  <tbody>\n",
              "    <tr>\n",
              "      <th>0</th>\n",
              "      <td>0</td>\n",
              "      <td>Подписные издания</td>\n",
              "      <td>Комфорт</td>\n",
              "      <td>Боже какое это прекрасное, изумительно прекрас...</td>\n",
              "      <td>0.692652</td>\n",
              "      <td>0.206904</td>\n",
              "      <td>0.028446</td>\n",
              "    </tr>\n",
              "    <tr>\n",
              "      <th>1</th>\n",
              "      <td>1</td>\n",
              "      <td>Подписные издания</td>\n",
              "      <td>Комфорт</td>\n",
              "      <td>Отличное место, атмосферное, огромный выбор кн...</td>\n",
              "      <td>0.125933</td>\n",
              "      <td>0.063725</td>\n",
              "      <td>0.749097</td>\n",
              "    </tr>\n",
              "    <tr>\n",
              "      <th>2</th>\n",
              "      <td>2</td>\n",
              "      <td>Подписные издания</td>\n",
              "      <td>Комфорт</td>\n",
              "      <td>Очень классный магазин, в котором можно все см...</td>\n",
              "      <td>0.281416</td>\n",
              "      <td>0.115971</td>\n",
              "      <td>0.384922</td>\n",
              "    </tr>\n",
              "    <tr>\n",
              "      <th>3</th>\n",
              "      <td>3</td>\n",
              "      <td>Подписные издания</td>\n",
              "      <td>Комфорт</td>\n",
              "      <td>Уютное,красивое место с очень  доброжелательны...</td>\n",
              "      <td>0.177821</td>\n",
              "      <td>0.085109</td>\n",
              "      <td>0.362979</td>\n",
              "    </tr>\n",
              "    <tr>\n",
              "      <th>4</th>\n",
              "      <td>4</td>\n",
              "      <td>Подписные издания</td>\n",
              "      <td>Комфорт</td>\n",
              "      <td>Срочно заходите!\\nКниги, подарки, открытки, на...</td>\n",
              "      <td>0.239359</td>\n",
              "      <td>0.025967</td>\n",
              "      <td>0.515630</td>\n",
              "    </tr>\n",
              "  </tbody>\n",
              "</table>\n",
              "</div>\n",
              "      <button class=\"colab-df-convert\" onclick=\"convertToInteractive('df-0010958a-f83a-4f62-a393-ef671f43a975')\"\n",
              "              title=\"Convert this dataframe to an interactive table.\"\n",
              "              style=\"display:none;\">\n",
              "        \n",
              "  <svg xmlns=\"http://www.w3.org/2000/svg\" height=\"24px\"viewBox=\"0 0 24 24\"\n",
              "       width=\"24px\">\n",
              "    <path d=\"M0 0h24v24H0V0z\" fill=\"none\"/>\n",
              "    <path d=\"M18.56 5.44l.94 2.06.94-2.06 2.06-.94-2.06-.94-.94-2.06-.94 2.06-2.06.94zm-11 1L8.5 8.5l.94-2.06 2.06-.94-2.06-.94L8.5 2.5l-.94 2.06-2.06.94zm10 10l.94 2.06.94-2.06 2.06-.94-2.06-.94-.94-2.06-.94 2.06-2.06.94z\"/><path d=\"M17.41 7.96l-1.37-1.37c-.4-.4-.92-.59-1.43-.59-.52 0-1.04.2-1.43.59L10.3 9.45l-7.72 7.72c-.78.78-.78 2.05 0 2.83L4 21.41c.39.39.9.59 1.41.59.51 0 1.02-.2 1.41-.59l7.78-7.78 2.81-2.81c.8-.78.8-2.07 0-2.86zM5.41 20L4 18.59l7.72-7.72 1.47 1.35L5.41 20z\"/>\n",
              "  </svg>\n",
              "      </button>\n",
              "      \n",
              "  <style>\n",
              "    .colab-df-container {\n",
              "      display:flex;\n",
              "      flex-wrap:wrap;\n",
              "      gap: 12px;\n",
              "    }\n",
              "\n",
              "    .colab-df-convert {\n",
              "      background-color: #E8F0FE;\n",
              "      border: none;\n",
              "      border-radius: 50%;\n",
              "      cursor: pointer;\n",
              "      display: none;\n",
              "      fill: #1967D2;\n",
              "      height: 32px;\n",
              "      padding: 0 0 0 0;\n",
              "      width: 32px;\n",
              "    }\n",
              "\n",
              "    .colab-df-convert:hover {\n",
              "      background-color: #E2EBFA;\n",
              "      box-shadow: 0px 1px 2px rgba(60, 64, 67, 0.3), 0px 1px 3px 1px rgba(60, 64, 67, 0.15);\n",
              "      fill: #174EA6;\n",
              "    }\n",
              "\n",
              "    [theme=dark] .colab-df-convert {\n",
              "      background-color: #3B4455;\n",
              "      fill: #D2E3FC;\n",
              "    }\n",
              "\n",
              "    [theme=dark] .colab-df-convert:hover {\n",
              "      background-color: #434B5C;\n",
              "      box-shadow: 0px 1px 3px 1px rgba(0, 0, 0, 0.15);\n",
              "      filter: drop-shadow(0px 1px 2px rgba(0, 0, 0, 0.3));\n",
              "      fill: #FFFFFF;\n",
              "    }\n",
              "  </style>\n",
              "\n",
              "      <script>\n",
              "        const buttonEl =\n",
              "          document.querySelector('#df-0010958a-f83a-4f62-a393-ef671f43a975 button.colab-df-convert');\n",
              "        buttonEl.style.display =\n",
              "          google.colab.kernel.accessAllowed ? 'block' : 'none';\n",
              "\n",
              "        async function convertToInteractive(key) {\n",
              "          const element = document.querySelector('#df-0010958a-f83a-4f62-a393-ef671f43a975');\n",
              "          const dataTable =\n",
              "            await google.colab.kernel.invokeFunction('convertToInteractive',\n",
              "                                                     [key], {});\n",
              "          if (!dataTable) return;\n",
              "\n",
              "          const docLinkHtml = 'Like what you see? Visit the ' +\n",
              "            '<a target=\"_blank\" href=https://colab.research.google.com/notebooks/data_table.ipynb>data table notebook</a>'\n",
              "            + ' to learn more about interactive tables.';\n",
              "          element.innerHTML = '';\n",
              "          dataTable['output_type'] = 'display_data';\n",
              "          await google.colab.output.renderOutput(dataTable, element);\n",
              "          const docLink = document.createElement('div');\n",
              "          docLink.innerHTML = docLinkHtml;\n",
              "          element.appendChild(docLink);\n",
              "        }\n",
              "      </script>\n",
              "    </div>\n",
              "  </div>\n",
              "  "
            ],
            "text/plain": [
              "   Unnamed: 0              Place    Class  ...  Positive  Negative   Neutral\n",
              "0           0  Подписные издания  Комфорт  ...  0.692652  0.206904  0.028446\n",
              "1           1  Подписные издания  Комфорт  ...  0.125933  0.063725  0.749097\n",
              "2           2  Подписные издания  Комфорт  ...  0.281416  0.115971  0.384922\n",
              "3           3  Подписные издания  Комфорт  ...  0.177821  0.085109  0.362979\n",
              "4           4  Подписные издания  Комфорт  ...  0.239359  0.025967  0.515630\n",
              "\n",
              "[5 rows x 7 columns]"
            ]
          },
          "metadata": {},
          "execution_count": 27
        }
      ]
    },
    {
      "cell_type": "code",
      "source": [
        "from matplotlib import pyplot as plt\n",
        "\n",
        "\n",
        "fig, ax = plt.subplots(1, 1, figsize=(10, 5))\n",
        "\n",
        "ax.set_title(f'Гисторгамма для отзывов об открытых общественных местах')\n",
        "ax.hist(Out_spaces['Class'])\n",
        "plt.show()"
      ],
      "metadata": {
        "colab": {
          "base_uri": "https://localhost:8080/",
          "height": 336
        },
        "id": "VTclmF5346Qn",
        "outputId": "bcdd2d8e-9c74-4c46-9763-52d2a58b23a0"
      },
      "execution_count": 33,
      "outputs": [
        {
          "output_type": "display_data",
          "data": {
            "image/png": "[encoded data removed]",
            "text/plain": [
              "<Figure size 720x360 with 1 Axes>"
            ]
          },
          "metadata": {
            "needs_background": "light"
          }
        }
      ]
    },
    {
      "cell_type": "code",
      "source": [
        "fig, ax = plt.subplots(1, 1, figsize=(10, 5))\n",
        "\n",
        "ax.set_title(f'Гисторгамма для отзывов о закрытых общественных местах')\n",
        "ax.hist(in_spaces['Class'])\n",
        "plt.show()"
      ],
      "metadata": {
        "colab": {
          "base_uri": "https://localhost:8080/",
          "height": 336
        },
        "id": "JyTCvXZxHvnR",
        "outputId": "a9fefc5d-2934-4f34-b46c-6f936d54ac6e"
      },
      "execution_count": 99,
      "outputs": [
        {
          "output_type": "display_data",
          "data": {
            "image/png": "[encoded data removed]",
            "text/plain": [
              "<Figure size 720x360 with 1 Axes>"
            ]
          },
          "metadata": {
            "needs_background": "light"
          }
        }
      ]
    },
    {
      "cell_type": "code",
      "source": [
        "fig, ax = plt.subplots(1, 1, figsize=(10, 5))\n",
        "\n",
        "ax.set_title(f'Гисторгамма для отзывов о транспорте')\n",
        "ax.hist(transport['Class'])\n",
        "plt.show()"
      ],
      "metadata": {
        "colab": {
          "base_uri": "https://localhost:8080/",
          "height": 336
        },
        "id": "EFl5OaGkH02_",
        "outputId": "ab03d179-95f2-44c2-9eb8-afcdabeac455"
      },
      "execution_count": 100,
      "outputs": [
        {
          "output_type": "display_data",
          "data": {
            "image/png": "[encoded data removed]",
            "text/plain": [
              "<Figure size 720x360 with 1 Axes>"
            ]
          },
          "metadata": {
            "needs_background": "light"
          }
        }
      ]
    },
    {
      "cell_type": "code",
      "source": [
        "def draw_plot(data):\n",
        "    data['Positive'] = np.round(data['Positive'], 2)\n",
        "    data['Negative'] = np.round(data['Negative'], 2)\n",
        "    data['Neutral'] = np.round(data['Neutral'], 2)\n",
        "\n",
        "    data['Positive'] = data[data[\"Positive\"] > 0.4]['Positive']\n",
        "    data['Negative'] = data[data[\"Negative\"] > 0.4]['Negative']\n",
        "    data['Neutral'] = data[data[\"Neutral\"] > 0.4]['Neutral']\n",
        "\n",
        "    fig, ax = plt.subplots(3, 1, figsize=(30,20))\n",
        "\n",
        "    sentiments = ['Positive', 'Negative', 'Neutral']\n",
        "\n",
        "    for i, col in enumerate(sentiments):\n",
        "        sns.countplot(x=data[col], hue=data['Class'], data=data[sentiments[i]], ax=ax[i])"
      ],
      "metadata": {
        "id": "n1-2q2BbG-9K"
      },
      "execution_count": 101,
      "outputs": []
    },
    {
      "cell_type": "code",
      "source": [
        "draw_plot(Out_spaces)"
      ],
      "metadata": {
        "colab": {
          "base_uri": "https://localhost:8080/",
          "height": 943
        },
        "id": "oieF8STJHNnf",
        "outputId": "dbbbf2ab-e46e-420c-89bc-2845dab939f7"
      },
      "execution_count": 102,
      "outputs": [
        {
          "output_type": "display_data",
          "data": {
            "image/png": "[encoded data removed]",
            "text/plain": [
              "<Figure size 2160x1440 with 3 Axes>"
            ]
          },
          "metadata": {
            "needs_background": "light"
          }
        }
      ]
    },
    {
      "cell_type": "code",
      "source": [
        "draw_plot(in_spaces)"
      ],
      "metadata": {
        "colab": {
          "base_uri": "https://localhost:8080/",
          "height": 946
        },
        "id": "nip8-ubaHRvj",
        "outputId": "f17c0b04-ab55-42d2-e1b1-120c81523e09"
      },
      "execution_count": 103,
      "outputs": [
        {
          "output_type": "display_data",
          "data": {
            "image/png": "[encoded data removed]",
            "text/plain": [
              "<Figure size 2160x1440 with 3 Axes>"
            ]
          },
          "metadata": {
            "needs_background": "light"
          }
        }
      ]
    },
    {
      "cell_type": "code",
      "source": [
        "draw_plot(transport)"
      ],
      "metadata": {
        "colab": {
          "base_uri": "https://localhost:8080/",
          "height": 946
        },
        "id": "pif1WbTHHT0h",
        "outputId": "7a66a3fd-7b92-4c1d-89b1-a5ac9bc66a7a"
      },
      "execution_count": 104,
      "outputs": [
        {
          "output_type": "display_data",
          "data": {
            "image/png": "[encoded data removed]",
            "text/plain": [
              "<Figure size 2160x1440 with 3 Axes>"
            ]
          },
          "metadata": {
            "needs_background": "light"
          }
        }
      ]
    }
  ]
}